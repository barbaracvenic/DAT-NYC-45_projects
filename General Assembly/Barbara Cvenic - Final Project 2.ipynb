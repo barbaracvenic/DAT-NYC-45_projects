{
 "cells": [
  {
   "cell_type": "markdown",
   "metadata": {},
   "source": [
    "# Final Project 2: Identify & Acquire"
   ]
  },
  {
   "cell_type": "markdown",
   "metadata": {},
   "source": [
    "---"
   ]
  },
  {
   "cell_type": "markdown",
   "metadata": {},
   "source": [
    "# Part A. Identify"
   ]
  },
  {
   "cell_type": "markdown",
   "metadata": {},
   "source": [
    "## Problem Statement"
   ]
  },
  {
   "cell_type": "markdown",
   "metadata": {},
   "source": [
    "Determine which DonorsChoose.org projects will pass the review process, using project data collected at submission and teacher data based on DonorsChoose.org data from January 2016 - January 2017."
   ]
  },
  {
   "cell_type": "markdown",
   "metadata": {},
   "source": [
    "### business objectives\n",
    "To better understand the types of DonorsChoose.org proejcts that are most likely to pass the initial project screening process. This will bring us one step closer to better guiding our teachers through the project creating process, and automating the screening process, which currently is very manual and requires hundreds of hours of work every month by a larger volunteer community. This is a priority for the Operations and Teacher Sucess teams at DonorsChoose.org."
   ]
  },
  {
   "cell_type": "markdown",
   "metadata": {},
   "source": [
    "### research goals (outcome)\n",
    "To determine the association between different project and teacher factors, and whether they will pass the initial DonorsChoose.org screening process.\n",
    "\n",
    ">**examples of some predictors & covariates**\n",
    ">* essay\n",
    ">* project sequence \n",
    ">* project type\n",
    ">* project cost\n",
    ">* time teacher spent creating the project\n",
    "\n",
    "> **timeframe:** January 2016 - January 2017 <p>"
   ]
  },
  {
   "cell_type": "markdown",
   "metadata": {},
   "source": [
    "### hypothesis\n",
    "The project essay and need statement will have the biggest impact on whether a project will pass the initial screening process. Past research has shown surprising findings that are not very intuitive - for example, a teacher posting their second project is just as likely to be rejected, as a teacher posting their first project. Given this, I think the answer lies in the actual project essay."
   ]
  },
  {
   "cell_type": "markdown",
   "metadata": {},
   "source": [
    "### <p style=\"text-align: center;\"> ---------------------- </p>"
   ]
  },
  {
   "cell_type": "markdown",
   "metadata": {},
   "source": [
    "# Part B. Aquire & Parse"
   ]
  },
  {
   "cell_type": "code",
   "execution_count": 5,
   "metadata": {
    "collapsed": false
   },
   "outputs": [
    {
     "data": {
      "text/html": [
       "<div>\n",
       "<table border=\"1\" class=\"dataframe\">\n",
       "  <thead>\n",
       "    <tr style=\"text-align: right;\">\n",
       "      <th></th>\n",
       "      <th>Project ID</th>\n",
       "      <th>Project Title</th>\n",
       "      <th>Project Essay</th>\n",
       "      <th>Project Need Statement</th>\n",
       "      <th>Project Type (Punchout or Special)</th>\n",
       "      <th>Project Cost</th>\n",
       "      <th>Project Draft Template Name</th>\n",
       "      <th>Project Sequence Number</th>\n",
       "      <th>Project Ever Drafted (Yes / No)</th>\n",
       "      <th>Time to submit</th>\n",
       "    </tr>\n",
       "  </thead>\n",
       "  <tbody>\n",
       "    <tr>\n",
       "      <th>0</th>\n",
       "      <td>2409313</td>\n",
       "      <td>Why Do I Look Like Me?</td>\n",
       "      <td>my students love to experience life, and i inv...</td>\n",
       "      <td>my students need a class set of wisconsin plan...</td>\n",
       "      <td>materials</td>\n",
       "      <td>234.35</td>\n",
       "      <td>NaN</td>\n",
       "      <td>2.0</td>\n",
       "      <td>No</td>\n",
       "      <td>349.0</td>\n",
       "    </tr>\n",
       "    <tr>\n",
       "      <th>1</th>\n",
       "      <td>2409312</td>\n",
       "      <td>Reeds and Neck Straps</td>\n",
       "      <td>what can i say about my students!  many of my ...</td>\n",
       "      <td>my students need reeds and new neck straps in ...</td>\n",
       "      <td>materials</td>\n",
       "      <td>567.42</td>\n",
       "      <td>NaN</td>\n",
       "      <td>4.0</td>\n",
       "      <td>No</td>\n",
       "      <td>64.0</td>\n",
       "    </tr>\n",
       "    <tr>\n",
       "      <th>2</th>\n",
       "      <td>2409305</td>\n",
       "      <td>Kindergarten STEAM</td>\n",
       "      <td>my students love to play! providing quality ma...</td>\n",
       "      <td>my students need magnetic building sets and cl...</td>\n",
       "      <td>materials</td>\n",
       "      <td>373.69</td>\n",
       "      <td>NaN</td>\n",
       "      <td>NaN</td>\n",
       "      <td>Yes</td>\n",
       "      <td>43.0</td>\n",
       "    </tr>\n",
       "    <tr>\n",
       "      <th>3</th>\n",
       "      <td>2409305</td>\n",
       "      <td>Kindergarten STEAM</td>\n",
       "      <td>my students love to play! providing quality ma...</td>\n",
       "      <td>my students need magnetic building sets and cl...</td>\n",
       "      <td>materials</td>\n",
       "      <td>373.69</td>\n",
       "      <td>Materials not described in essay</td>\n",
       "      <td>NaN</td>\n",
       "      <td>Yes</td>\n",
       "      <td>43.0</td>\n",
       "    </tr>\n",
       "    <tr>\n",
       "      <th>4</th>\n",
       "      <td>2409304</td>\n",
       "      <td>Help Us Get Rid of the Creepy Crawlies!</td>\n",
       "      <td>my students are amazing! all of them are bilin...</td>\n",
       "      <td>my students need lice shampoo, nit combs, and ...</td>\n",
       "      <td>materials</td>\n",
       "      <td>486.80</td>\n",
       "      <td>NaN</td>\n",
       "      <td>20.0</td>\n",
       "      <td>No</td>\n",
       "      <td>31.0</td>\n",
       "    </tr>\n",
       "  </tbody>\n",
       "</table>\n",
       "</div>"
      ],
      "text/plain": [
       "   Project ID                            Project Title  \\\n",
       "0     2409313                   Why Do I Look Like Me?   \n",
       "1     2409312                    Reeds and Neck Straps   \n",
       "2     2409305                       Kindergarten STEAM   \n",
       "3     2409305                       Kindergarten STEAM   \n",
       "4     2409304  Help Us Get Rid of the Creepy Crawlies!   \n",
       "\n",
       "                                       Project Essay  \\\n",
       "0  my students love to experience life, and i inv...   \n",
       "1  what can i say about my students!  many of my ...   \n",
       "2  my students love to play! providing quality ma...   \n",
       "3  my students love to play! providing quality ma...   \n",
       "4  my students are amazing! all of them are bilin...   \n",
       "\n",
       "                              Project Need Statement  \\\n",
       "0  my students need a class set of wisconsin plan...   \n",
       "1  my students need reeds and new neck straps in ...   \n",
       "2  my students need magnetic building sets and cl...   \n",
       "3  my students need magnetic building sets and cl...   \n",
       "4  my students need lice shampoo, nit combs, and ...   \n",
       "\n",
       "  Project Type (Punchout or Special)  Project Cost  \\\n",
       "0                          materials        234.35   \n",
       "1                          materials        567.42   \n",
       "2                          materials        373.69   \n",
       "3                          materials        373.69   \n",
       "4                          materials        486.80   \n",
       "\n",
       "        Project Draft Template Name  Project Sequence Number  \\\n",
       "0                               NaN                      2.0   \n",
       "1                               NaN                      4.0   \n",
       "2                               NaN                      NaN   \n",
       "3  Materials not described in essay                      NaN   \n",
       "4                               NaN                     20.0   \n",
       "\n",
       "  Project Ever Drafted (Yes / No)  Time to submit  \n",
       "0                              No           349.0  \n",
       "1                              No            64.0  \n",
       "2                             Yes            43.0  \n",
       "3                             Yes            43.0  \n",
       "4                              No            31.0  "
      ]
     },
     "execution_count": 5,
     "metadata": {},
     "output_type": "execute_result"
    }
   ],
   "source": [
    "import os\n",
    "import pandas as pd\n",
    "\n",
    "df = pd.read_csv(os.path.join('..','..', 'bc_final_project_dataset.csv'))\n",
    "\n",
    "df.head()"
   ]
  },
  {
   "cell_type": "markdown",
   "metadata": {},
   "source": [
    "## parse the data"
   ]
  },
  {
   "cell_type": "markdown",
   "metadata": {},
   "source": [
    "###  data dictionary\n",
    "Variable | Description | Type of Variable\n",
    "---| ---| ---\n",
    "project id |unique identifier of each project  | integer\n",
    "title | project title | string\n",
    "essay | project essay | string\n",
    "need statement | first part of the essay | string\n",
    "project type | the type of request: materials, class trip, visitor, special request | categorical\n",
    "project cost | total cost of the project | continuous\n",
    "project draft template name | each id represents a unique reason for why the project did not pass review | categorical\n",
    "project sequence number | indicates whether this is the first, second, etc. project from this teacher | continuous\n",
    "time to submit | the amount of time (in minutes) it took for the teacher to write and submit their proposal | continuous\n",
    "ever drafted | whether the project was sent back to the teacher for revisions | binary"
   ]
  },
  {
   "cell_type": "markdown",
   "metadata": {},
   "source": [
    "## assumptions & risks\n",
    "> Since I have built this dataset myself, I've made a lot of assumptions (based on past research done by the data science team at DonorsChoose.org), about the features I want in the dataset to begin with. Here are some risks to this approach:\n",
    "><p>&nbsp;&nbsp;&nbsp;(a) There are seemingly infinite features to choose from in our database. The features I chose to include seemed most relevant based on past analysis, but there is a risk that I've missed something. It's possible that I will need to go back to the original dataset and add additional features if performance is poor. <p>\n",
    ">&nbsp;&nbsp;&nbsp;(b) There are over 100,000 rows in this data set, but on average, only about 20% of projects do not pass the screenign process. While there is a lot of data to work with, this might be challenging. <p>\n",
    ">&nbsp;&nbsp;&nbsp;(c) The screening process is done by human beings, and thus is prone to human error. Each project that is sent back to a teacher has a corresponding reason, but screening always has a subjective element to it. <p>\n",
    ">&nbsp;&nbsp;&nbsp;(d) The dataset is text-heavy and has some imperfections (null values, duplicates, etc.), so it will require a lot of data munging."
   ]
  },
  {
   "cell_type": "markdown",
   "metadata": {},
   "source": [
    "# Part C. Plan"
   ]
  },
  {
   "cell_type": "markdown",
   "metadata": {},
   "source": [
    "## distribution & outliers\n",
    "\n",
    "### distribution\n",
    ">* describe the data to identify the min, max, mean, and standard deviation of continuous features\n",
    ">* visualize the data to better understand the distribution of categorical features\n",
    ">* research the best ways to handle text features\n",
    "\n",
    "### outliers\n",
    ">* compare the mean to the median and mode of the continuous features and visualize the data - I expect to see the biggest range in the Time to submit feature"
   ]
  },
  {
   "cell_type": "markdown",
   "metadata": {},
   "source": [
    "## potential methods & models\n",
    "### methods\n",
    "* I'll need to do some research into language processing in Python.\n",
    "* I'll need to keep a close eye on performance with such a large dataset, and explore methods like dimension reductionality and PCA.\n",
    "\n",
    "### models\n",
    "* I'd like to explore different unsupervised learning models that I can then do supervised learning with.\n",
    "* For such a large data set, with so many potential features, random forest will probably be most helpful."
   ]
  }
 ],
 "metadata": {
  "anaconda-cloud": {},
  "kernelspec": {
   "display_name": "Python [conda root]",
   "language": "python",
   "name": "conda-root-py"
  },
  "language_info": {
   "codemirror_mode": {
    "name": "ipython",
    "version": 2
   },
   "file_extension": ".py",
   "mimetype": "text/x-python",
   "name": "python",
   "nbconvert_exporter": "python",
   "pygments_lexer": "ipython2",
   "version": "2.7.12"
  }
 },
 "nbformat": 4,
 "nbformat_minor": 1
}
